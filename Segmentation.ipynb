{
  "nbformat": 4,
  "nbformat_minor": 0,
  "metadata": {
    "colab": {
      "provenance": []
    },
    "kernelspec": {
      "name": "python3",
      "display_name": "Python 3"
    },
    "language_info": {
      "name": "python"
    }
  },
  "cells": [
    {
      "cell_type": "code",
      "execution_count": 1,
      "metadata": {
        "id": "l2NgkU-M8isf"
      },
      "outputs": [],
      "source": [
        "import pandas as pd\n",
        "import numpy as np\n",
        "import matplotlib.pyplot as plt\n",
        "import seaborn as sns\n",
        "from sklearn.preprocessing import StandardScaler\n",
        "scalar=StandardScaler()\n",
        "from sklearn.decomposition import PCA\n",
        "from sklearn.cluster import KMeans,AgglomerativeClustering,DBSCAN,SpectralClustering\n",
        "from sklearn.mixture import GaussianMixture\n",
        "from sklearn.metrics import silhouette_samples, silhouette_score\n",
        "from sklearn.tree import DecisionTreeClassifier\n",
        "from sklearn.model_selection import train_test_split\n",
        "from sklearn.metrics import classification_report\n",
        "from sklearn import tree\n",
        "from sklearn import metrics\n",
        "\n",
        "import warnings\n",
        "warnings.filterwarnings(\"ignore\")"
      ]
    },
    {
      "cell_type": "code",
      "source": [
        "df = pd.read_csv(\"/content/sample_data/Customer Data.csv\")\n",
        "df"
      ],
      "metadata": {
        "id": "T3PeUIyF-vBU"
      },
      "execution_count": null,
      "outputs": []
    },
    {
      "cell_type": "code",
      "source": [
        "#EDA"
      ],
      "metadata": {
        "id": "te07d60f-vDk"
      },
      "execution_count": null,
      "outputs": []
    },
    {
      "cell_type": "code",
      "source": [
        "df.shape"
      ],
      "metadata": {
        "colab": {
          "base_uri": "https://localhost:8080/"
        },
        "id": "pM8yyxvE-vGL",
        "outputId": "bcbc8ba7-7da9-45b2-83ba-5c9d8b9080f1"
      },
      "execution_count": 3,
      "outputs": [
        {
          "output_type": "execute_result",
          "data": {
            "text/plain": [
              "(8950, 18)"
            ]
          },
          "metadata": {},
          "execution_count": 3
        }
      ]
    },
    {
      "cell_type": "code",
      "source": [
        "df.info()"
      ],
      "metadata": {
        "id": "czAKUvGP-vI5"
      },
      "execution_count": null,
      "outputs": []
    },
    {
      "cell_type": "code",
      "source": [
        "df.describe()"
      ],
      "metadata": {
        "id": "LhAoWbbM-vLc"
      },
      "execution_count": null,
      "outputs": []
    },
    {
      "cell_type": "code",
      "source": [
        "df.isnull().sum()"
      ],
      "metadata": {
        "colab": {
          "base_uri": "https://localhost:8080/"
        },
        "id": "sweJmJK5-vOA",
        "outputId": "e945b241-d039-4eca-8a3b-389e03bddddd"
      },
      "execution_count": 6,
      "outputs": [
        {
          "output_type": "execute_result",
          "data": {
            "text/plain": [
              "CUST_ID                               0\n",
              "BALANCE                               0\n",
              "BALANCE_FREQUENCY                     0\n",
              "PURCHASES                             0\n",
              "ONEOFF_PURCHASES                      0\n",
              "INSTALLMENTS_PURCHASES                0\n",
              "CASH_ADVANCE                          0\n",
              "PURCHASES_FREQUENCY                   0\n",
              "ONEOFF_PURCHASES_FREQUENCY            0\n",
              "PURCHASES_INSTALLMENTS_FREQUENCY      0\n",
              "CASH_ADVANCE_FREQUENCY                0\n",
              "CASH_ADVANCE_TRX                      0\n",
              "PURCHASES_TRX                         0\n",
              "CREDIT_LIMIT                          1\n",
              "PAYMENTS                              0\n",
              "MINIMUM_PAYMENTS                    313\n",
              "PRC_FULL_PAYMENT                      0\n",
              "TENURE                                0\n",
              "dtype: int64"
            ]
          },
          "metadata": {},
          "execution_count": 6
        }
      ]
    },
    {
      "cell_type": "code",
      "source": [
        "df.duplicated().sum()"
      ],
      "metadata": {
        "colab": {
          "base_uri": "https://localhost:8080/"
        },
        "id": "AshDfc8D-3WT",
        "outputId": "d2a686d1-c6e8-4972-cb78-2120dc0febbd"
      },
      "execution_count": 14,
      "outputs": [
        {
          "output_type": "execute_result",
          "data": {
            "text/plain": [
              "0"
            ]
          },
          "metadata": {},
          "execution_count": 14
        }
      ]
    },
    {
      "cell_type": "code",
      "source": [
        "df['MINIMUM_PAYMENTS']=df['MINIMUM_PAYMENTS'].fillna(df['MINIMUM_PAYMENTS'].mean())\n",
        "df['CREDIT_LIMIT']=df['CREDIT_LIMIT'].fillna(df['CREDIT_LIMIT'].mean())"
      ],
      "metadata": {
        "id": "3EAXvUH-BXua"
      },
      "execution_count": 12,
      "outputs": []
    },
    {
      "cell_type": "code",
      "source": [
        "df.drop(columns=[\"CUST_ID\"],axis=1,inplace=True)"
      ],
      "metadata": {
        "id": "x3gKziuj-3fB"
      },
      "execution_count": null,
      "outputs": []
    },
    {
      "cell_type": "code",
      "source": [
        "df.columns"
      ],
      "metadata": {
        "colab": {
          "base_uri": "https://localhost:8080/"
        },
        "id": "bjDvdXdN-3hj",
        "outputId": "342300a8-5d2b-463b-a5f6-65a16f3624d1"
      },
      "execution_count": 16,
      "outputs": [
        {
          "output_type": "execute_result",
          "data": {
            "text/plain": [
              "Index(['BALANCE', 'BALANCE_FREQUENCY', 'PURCHASES', 'ONEOFF_PURCHASES',\n",
              "       'INSTALLMENTS_PURCHASES', 'CASH_ADVANCE', 'PURCHASES_FREQUENCY',\n",
              "       'ONEOFF_PURCHASES_FREQUENCY', 'PURCHASES_INSTALLMENTS_FREQUENCY',\n",
              "       'CASH_ADVANCE_FREQUENCY', 'CASH_ADVANCE_TRX', 'PURCHASES_TRX',\n",
              "       'CREDIT_LIMIT', 'PAYMENTS', 'MINIMUM_PAYMENTS', 'PRC_FULL_PAYMENT',\n",
              "       'TENURE'],\n",
              "      dtype='object')"
            ]
          },
          "metadata": {},
          "execution_count": 16
        }
      ]
    },
    {
      "cell_type": "code",
      "source": [
        "plt.figure(figsize=(30,45))\n",
        "for i, col in enumerate(df.columns):\n",
        "    if df[col].dtype != 'object':\n",
        "        ax = plt.subplot(9, 2, i+1)\n",
        "        sns.kdeplot(df[col], ax=ax)\n",
        "        plt.xlabel(col)\n",
        "\n",
        "plt.show()"
      ],
      "metadata": {
        "id": "fKk8SKiQ-3kR"
      },
      "execution_count": null,
      "outputs": []
    },
    {
      "cell_type": "code",
      "source": [
        "plt.figure(figsize=(10,60))\n",
        "for i in range(0,17):\n",
        "    plt.subplot(17,1,i+1)\n",
        "    sns.distplot(df[df.columns[i]],kde_kws={'color':'b','bw': 0.1,'lw':3,'label':'KDE'},hist_kws={'color':'g'})\n",
        "    plt.title(df.columns[i])\n",
        "plt.tight_layout()"
      ],
      "metadata": {
        "id": "8_bQnGnM-3m4"
      },
      "execution_count": null,
      "outputs": []
    },
    {
      "cell_type": "code",
      "source": [
        "plt.figure(figsize=(10,10))\n",
        "sns.heatmap(df.corr(), annot=True)\n",
        "plt.show()"
      ],
      "metadata": {
        "id": "EWywLFbL_oZD"
      },
      "execution_count": null,
      "outputs": []
    },
    {
      "cell_type": "code",
      "source": [
        "scaled_df = scalar.fit_transform(df)"
      ],
      "metadata": {
        "id": "cRYyJ6JQ_pMa"
      },
      "execution_count": 23,
      "outputs": []
    },
    {
      "cell_type": "code",
      "source": [
        "pca = PCA(n_components=2)\n",
        "principal_components = pca.fit_transform(scaled_df)\n",
        "pca_df = pd.DataFrame(data=principal_components ,columns=[\"PCA1\",\"PCA2\"])\n",
        "pca_df"
      ],
      "metadata": {
        "id": "bU9kjNyZ_pO9"
      },
      "execution_count": null,
      "outputs": []
    },
    {
      "cell_type": "code",
      "source": [
        "inertia = []\n",
        "range_val = range(1,15)\n",
        "for i in range_val:\n",
        "    kmean = KMeans(n_clusters=i)\n",
        "    kmean.fit_predict(pd.DataFrame(scaled_df))\n",
        "    inertia.append(kmean.inertia_)\n",
        "plt.plot(range_val,inertia,'bx-')\n",
        "plt.xlabel('Values of K')\n",
        "plt.ylabel('Inertia')\n",
        "plt.title('The Elbow Method using Inertia')\n",
        "plt.show()"
      ],
      "metadata": {
        "id": "pw0q6pQx_pR7"
      },
      "execution_count": null,
      "outputs": []
    },
    {
      "cell_type": "code",
      "source": [
        "kmeans_model=KMeans(4)\n",
        "kmeans_model.fit_predict(scaled_df)\n",
        "pca_df_kmeans= pd.concat([pca_df,pd.DataFrame({'cluster':kmeans_model.labels_})],axis=1)"
      ],
      "metadata": {
        "id": "k5hSMDij_vvF"
      },
      "execution_count": 26,
      "outputs": []
    },
    {
      "cell_type": "code",
      "source": [
        "plt.figure(figsize=(8,8))\n",
        "ax=sns.scatterplot(x=\"PCA1\",y=\"PCA2\",hue=\"cluster\",data=pca_df_kmeans,palette=['red','green','blue','black'])\n",
        "plt.title(\"Clustering using K-Means Algorithm\")\n",
        "plt.show()"
      ],
      "metadata": {
        "id": "NV58kIH6_vxk"
      },
      "execution_count": null,
      "outputs": []
    },
    {
      "cell_type": "code",
      "source": [
        "cluster_centers = pd.DataFrame(data=kmeans_model.cluster_centers_,columns=[df.columns])\n",
        "# inverse transform the data\n",
        "cluster_centers = scalar.inverse_transform(cluster_centers)\n",
        "cluster_centers = pd.DataFrame(data=cluster_centers,columns=[df.columns])\n",
        "cluster_centers"
      ],
      "metadata": {
        "id": "mtW_lpP6_v0k"
      },
      "execution_count": null,
      "outputs": []
    },
    {
      "cell_type": "code",
      "source": [
        "cluster_df = pd.concat([df,pd.DataFrame({'Cluster':kmeans_model.labels_})],axis=1)\n",
        "cluster_df"
      ],
      "metadata": {
        "id": "D_7aA-Qw_v3J"
      },
      "execution_count": null,
      "outputs": []
    },
    {
      "cell_type": "code",
      "source": [
        "cluster_1_df = cluster_df[cluster_df[\"Cluster\"]==0]\n",
        "cluster_1_df"
      ],
      "metadata": {
        "id": "NaAimxp-_pUw"
      },
      "execution_count": null,
      "outputs": []
    },
    {
      "cell_type": "code",
      "source": [
        "cluster_2_df = cluster_df[cluster_df[\"Cluster\"]==1]\n",
        "cluster_2_df"
      ],
      "metadata": {
        "id": "r9St2PKy_3qh"
      },
      "execution_count": null,
      "outputs": []
    },
    {
      "cell_type": "code",
      "source": [
        "cluster_3_df = cluster_df[cluster_df[\"Cluster\"]==2]\n",
        "cluster_3_df"
      ],
      "metadata": {
        "id": "ljqLjFRy_3tT"
      },
      "execution_count": null,
      "outputs": []
    },
    {
      "cell_type": "code",
      "source": [
        "cluster_4_df = cluster_df[cluster_df[\"Cluster\"] == 3]\n",
        "cluster_4_df"
      ],
      "metadata": {
        "id": "Nm_azS9l_3wj"
      },
      "execution_count": null,
      "outputs": []
    },
    {
      "cell_type": "code",
      "source": [
        "sns.countplot(x='Cluster', data=cluster_df)"
      ],
      "metadata": {
        "colab": {
          "base_uri": "https://localhost:8080/",
          "height": 467
        },
        "id": "HPZsHBmJ__IG",
        "outputId": "b44e515e-f92d-4493-d50f-507035e9716f"
      },
      "execution_count": 34,
      "outputs": [
        {
          "output_type": "execute_result",
          "data": {
            "text/plain": [
              "<Axes: xlabel='Cluster', ylabel='count'>"
            ]
          },
          "metadata": {},
          "execution_count": 34
        },
        {
          "output_type": "display_data",
          "data": {
            "text/plain": [
              "<Figure size 640x480 with 1 Axes>"
            ],
            "image/png": "[encoded data removed]"
          },
          "metadata": {}
        }
      ]
    },
    {
      "cell_type": "code",
      "source": [
        "for c in cluster_df.drop(['Cluster'],axis=1):\n",
        "    grid= sns.FacetGrid(cluster_df, col='Cluster')\n",
        "    grid= grid.map(plt.hist, c)\n",
        "plt.show()"
      ],
      "metadata": {
        "id": "3uYqQS5Z__Kf"
      },
      "execution_count": null,
      "outputs": []
    },
    {
      "cell_type": "code",
      "source": [
        "import joblib\n",
        "joblib.dump(kmeans_model, \"kmeans_model.pkl\")"
      ],
      "metadata": {
        "colab": {
          "base_uri": "https://localhost:8080/"
        },
        "id": "QVD2TZxIAFYb",
        "outputId": "fcb02c2a-7f77-4f09-b3ea-5609c1091fb3"
      },
      "execution_count": 36,
      "outputs": [
        {
          "output_type": "execute_result",
          "data": {
            "text/plain": [
              "['kmeans_model.pkl']"
            ]
          },
          "metadata": {},
          "execution_count": 36
        }
      ]
    },
    {
      "cell_type": "code",
      "source": [
        "cluster_df.to_csv(\"Clustered_Customer_Data.csv\")"
      ],
      "metadata": {
        "id": "yUShE2YBAFbG"
      },
      "execution_count": 37,
      "outputs": []
    },
    {
      "cell_type": "code",
      "source": [
        "X = cluster_df.drop(['Cluster'],axis=1)\n",
        "y= cluster_df[['Cluster']]\n",
        "X_train, X_test, y_train, y_test =train_test_split(X, y, test_size=0.3)"
      ],
      "metadata": {
        "id": "U0QWwG12AFd9"
      },
      "execution_count": 38,
      "outputs": []
    },
    {
      "cell_type": "code",
      "source": [
        "model= DecisionTreeClassifier(criterion=\"entropy\")\n",
        "model.fit(X_train, y_train)\n",
        "y_pred = model.predict(X_test)\n",
        "#Confusion_Matrix\n",
        "print(metrics.confusion_matrix(y_test, y_pred))\n",
        "print(classification_report(y_test, y_pred))"
      ],
      "metadata": {
        "id": "Dm5c7RhSAFh7"
      },
      "execution_count": null,
      "outputs": []
    },
    {
      "cell_type": "code",
      "source": [
        "import pickle\n",
        "filename = 'final_model.sav'\n",
        "pickle.dump(model, open(filename, 'wb'))\n",
        "\n",
        "# some time later...\n",
        "\n",
        "# load the model from disk\n",
        "loaded_model = pickle.load(open(filename, 'rb'))\n",
        "result = loaded_model.score(X_test, y_test)\n",
        "print(result,'% Accuracy')"
      ],
      "metadata": {
        "colab": {
          "base_uri": "https://localhost:8080/"
        },
        "id": "5_XiEudT__Nn",
        "outputId": "9ef6abb1-f67c-49c6-dd25-7712890d144c"
      },
      "execution_count": 40,
      "outputs": [
        {
          "output_type": "stream",
          "name": "stdout",
          "text": [
            "0.9325884543761639 % Accuracy\n"
          ]
        }
      ]
    },
    {
      "cell_type": "code",
      "source": [
        "!pip install streamlit"
      ],
      "metadata": {
        "id": "dVprbl8SEgT8"
      },
      "execution_count": null,
      "outputs": []
    },
    {
      "cell_type": "code",
      "source": [
        "from sklearn import preprocessing\n",
        "import streamlit as st\n",
        "import pandas as pd\n",
        "import plotly.figure_factory as ff\n",
        "import matplotlib.pyplot as plt\n",
        "import seaborn as sns\n",
        "import pickle\n",
        "\n",
        "filename = 'final_model.sav'\n",
        "loaded_model = pickle.load(open(filename, 'rb'))\n",
        "df = pd.read_csv(\"Clustered_Customer_Data.csv\")\n",
        "st.set_option('deprecation.showPyplotGlobalUse', False)\n",
        "\n",
        "st.markdown('<style>body{background-color: Blue;}</style>',unsafe_allow_html=True)\n",
        "st.title(\"Prediction\")\n",
        "\n",
        "with st.form(\"my_form\"):\n",
        "    balance=st.number_input(label='Balance',step=0.001,format=\"%.6f\")\n",
        "    balance_frequency=st.number_input(label='Balance Frequency',step=0.001,format=\"%.6f\")\n",
        "    purchases=st.number_input(label='Purchases',step=0.01,format=\"%.2f\")\n",
        "    oneoff_purchases=st.number_input(label='OneOff_Purchases',step=0.01,format=\"%.2f\")\n",
        "    installments_purchases=st.number_input(label='Installments Purchases',step=0.01,format=\"%.2f\")\n",
        "    cash_advance=st.number_input(label='Cash Advance',step=0.01,format=\"%.6f\")\n",
        "    purchases_frequency=st.number_input(label='Purchases Frequency',step=0.01,format=\"%.6f\")\n",
        "    oneoff_purchases_frequency=st.number_input(label='OneOff Purchases Frequency',step=0.1,format=\"%.6f\")\n",
        "    purchases_installment_frequency=st.number_input(label='Purchases Installments Freqency',step=0.1,format=\"%.6f\")\n",
        "    cash_advance_frequency=st.number_input(label='Cash Advance Frequency',step=0.1,format=\"%.6f\")\n",
        "    cash_advance_trx=st.number_input(label='Cash Advance Trx',step=1)\n",
        "    purchases_trx=st.number_input(label='Purchases TRX',step=1)\n",
        "    credit_limit=st.number_input(label='Credit Limit',step=0.1,format=\"%.1f\")\n",
        "    payments=st.number_input(label='Payments',step=0.01,format=\"%.6f\")\n",
        "    minimum_payments=st.number_input(label='Minimum Payments',step=0.01,format=\"%.6f\")\n",
        "    prc_full_payment=st.number_input(label='PRC Full Payment',step=0.01,format=\"%.6f\")\n",
        "    tenure=st.number_input(label='Tenure',step=1)\n",
        "\n",
        "    data=[[balance,balance_frequency,purchases,oneoff_purchases,installments_purchases,cash_advance,purchases_frequency,oneoff_purchases_frequency,purchases_installment_frequency,cash_advance_frequency,cash_advance_trx,purchases_trx,credit_limit,payments,minimum_payments,prc_full_payment,tenure]]\n",
        "\n",
        "    submitted = st.form_submit_button(\"Submit\")\n",
        "\n",
        "if submitted:\n",
        "    clust=loaded_model.predict(data)[0]\n",
        "    print('Data Belongs to Cluster',clust)\n",
        "\n",
        "    cluster_df1=df[df['Cluster']==clust]\n",
        "    plt.rcParams[\"figure.figsize\"] = (20,3)\n",
        "    for c in cluster_df1.drop(['Cluster'],axis=1):\n",
        "        fig, ax = plt.subplots()\n",
        "        grid= sns.FacetGrid(cluster_df1, col='Cluster')\n",
        "        grid= grid.map(plt.hist, c)\n",
        "        plt.show()\n",
        "        st.pyplot(figsize=(5, 5))"
      ],
      "metadata": {
        "colab": {
          "base_uri": "https://localhost:8080/"
        },
        "id": "VhK6a8ddEgW4",
        "outputId": "7f3b10cd-cc4e-4aef-bdc9-293b3e8c46fb"
      },
      "execution_count": 43,
      "outputs": [
        {
          "output_type": "stream",
          "name": "stderr",
          "text": [
            "2024-04-25 16:24:43.307 \n",
            "════════════════════════════════════════════════\n",
            "deprecation.showPyplotGlobalUse IS NO LONGER SUPPORTED.\n",
            "\n",
            "The support for global pyplot instances is planned to be removed soon.\n",
            "\n",
            "Please update <user defined>.\n",
            "════════════════════════════════════════════════\n",
            "\n",
            "2024-04-25 16:24:43.558 \n",
            "  \u001b[33m\u001b[1mWarning:\u001b[0m to view this Streamlit app on a browser, run it with the following\n",
            "  command:\n",
            "\n",
            "    streamlit run /usr/local/lib/python3.10/dist-packages/colab_kernel_launcher.py [ARGUMENTS]\n"
          ]
        }
      ]
    }
  ]
}